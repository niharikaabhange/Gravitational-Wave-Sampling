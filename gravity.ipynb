{
  "nbformat": 4,
  "nbformat_minor": 0,
  "metadata": {
    "colab": {
      "provenance": []
    },
    "kernelspec": {
      "name": "python3",
      "display_name": "Python 3"
    }
  },
  "cells": [
    {
      "cell_type": "code",
      "metadata": {
        "id": "-m08NlZHFh3_"
      },
      "source": [
        "import numpy as np\n",
        "import matplotlib.pyplot as plt\n",
        "import h5py"
      ],
      "execution_count": null,
      "outputs": []
    },
    {
      "cell_type": "code",
      "metadata": {
        "id": "iNH8Y4F_HblG"
      },
      "source": [
        "fileName = 'H-H1_LOSC_4_V1-815411200-4096.hdf5'\n",
        "dataFile = h5py.File(fileName, 'r')"
      ],
      "execution_count": null,
      "outputs": []
    },
    {
      "cell_type": "code",
      "metadata": {
        "colab": {
          "base_uri": "https://localhost:8080/"
        },
        "id": "5E27SblaHiwG",
        "outputId": "f1d7c839-84e3-4c79-8f47-7fe24756ca7b"
      },
      "source": [
        "for key in dataFile.keys():\n",
        "    print(key)"
      ],
      "execution_count": null,
      "outputs": [
        {
          "output_type": "stream",
          "text": [
            "meta\n",
            "quality\n",
            "strain\n"
          ],
          "name": "stdout"
        }
      ]
    },
    {
      "cell_type": "code",
      "metadata": {
        "colab": {
          "base_uri": "https://localhost:8080/",
          "height": 264
        },
        "id": "DLnQPOIEK2wB",
        "outputId": "0c774708-017c-43e4-e1d8-a054fc5211a0"
      },
      "source": [
        "import numpy as np\n",
        "import matplotlib.pyplot as plt\n",
        "import h5py\n",
        "vector=np.arange(20)\n",
        "plt.plot(vector**2)\n",
        "plt.show()"
      ],
      "execution_count": null,
      "outputs": [
        {
          "output_type": "display_data",
          "data": {
            "image/png": "[encoded data removed]",
            "text/plain": [
              "<Figure size 432x288 with 1 Axes>"
            ]
          },
          "metadata": {
            "tags": [],
            "needs_background": "light"
          }
        }
      ]
    },
    {
      "cell_type": "code",
      "metadata": {
        "colab": {
          "base_uri": "https://localhost:8080/"
        },
        "id": "v8fAgtVCKXIy",
        "outputId": "d89ee2a7-063e-4767-9424-e108cafe64ba"
      },
      "source": [
        "strain = dataFile['strain']['Strain'].value\n",
        "ts = dataFile['strain']['Strain'].attrs['Xspacing']"
      ],
      "execution_count": null,
      "outputs": [
        {
          "output_type": "stream",
          "text": [
            "/usr/local/lib/python3.6/dist-packages/ipykernel_launcher.py:1: H5pyDeprecationWarning: dataset.value has been deprecated. Use dataset[()] instead.\n",
            "  \"\"\"Entry point for launching an IPython kernel.\n"
          ],
          "name": "stderr"
        }
      ]
    },
    {
      "cell_type": "code",
      "metadata": {
        "colab": {
          "base_uri": "https://localhost:8080/"
        },
        "id": "-YlCS9TKKsrd",
        "outputId": "cd857fe8-9bf8-437c-c000-e0b6133dc68c"
      },
      "source": [
        "print (\"\\n\\n\")\n",
        "metaKeys = dataFile['meta'].keys()\n",
        "meta = dataFile['meta']\n",
        "for key in metaKeys:\n",
        "    print (key, meta[key].value)"
      ],
      "execution_count": null,
      "outputs": [
        {
          "output_type": "stream",
          "text": [
            "\n",
            "\n",
            "\n",
            "Description b'Strain data time series from LIGO'\n",
            "DescriptionURL b'http://losc.ligo.org/'\n",
            "Detector b'H1'\n",
            "Duration 4096\n",
            "GPSstart 815411200\n",
            "Observatory b'H'\n",
            "Type b'StrainTimeSeries'\n",
            "UTCstart b'2005-11-07T15:06:27'\n"
          ],
          "name": "stdout"
        },
        {
          "output_type": "stream",
          "text": [
            "/usr/local/lib/python3.6/dist-packages/ipykernel_launcher.py:5: H5pyDeprecationWarning: dataset.value has been deprecated. Use dataset[()] instead.\n",
            "  \"\"\"\n"
          ],
          "name": "stderr"
        }
      ]
    },
    {
      "cell_type": "code",
      "metadata": {
        "colab": {
          "base_uri": "https://localhost:8080/"
        },
        "id": "tbEET5M1LSkR",
        "outputId": "e5a97aa9-f9b9-4dd5-eebb-ae62a2cda101"
      },
      "source": [
        "gpsStart = meta['GPSstart'].value\n",
        "duration = meta['Duration'].value\n",
        "gpsEnd   = gpsStart + duration\n",
        "\n",
        "time = np.arange(gpsStart, gpsEnd, ts)"
      ],
      "execution_count": null,
      "outputs": [
        {
          "output_type": "stream",
          "text": [
            "/usr/local/lib/python3.6/dist-packages/ipykernel_launcher.py:1: H5pyDeprecationWarning: dataset.value has been deprecated. Use dataset[()] instead.\n",
            "  \"\"\"Entry point for launching an IPython kernel.\n",
            "/usr/local/lib/python3.6/dist-packages/ipykernel_launcher.py:2: H5pyDeprecationWarning: dataset.value has been deprecated. Use dataset[()] instead.\n",
            "  \n"
          ],
          "name": "stderr"
        }
      ]
    },
    {
      "cell_type": "code",
      "metadata": {
        "colab": {
          "base_uri": "https://localhost:8080/",
          "height": 290
        },
        "id": "BpRSfehSLVlg",
        "outputId": "19512314-2d1e-4932-c31a-928eab6a0f17"
      },
      "source": [
        "numSamples = 10000\n",
        "plt.plot(time[0:numSamples], strain[0:numSamples])\n",
        "plt.xlabel('GPS Time (s)')\n",
        "plt.ylabel('H1 Strain')\n",
        "plt.show()"
      ],
      "execution_count": null,
      "outputs": [
        {
          "output_type": "display_data",
          "data": {
            "image/png": "[encoded data removed]",
            "text/plain": [
              "<Figure size 432x288 with 1 Axes>"
            ]
          },
          "metadata": {
            "tags": [],
            "needs_background": "light"
          }
        }
      ]
    },
    {
      "cell_type": "code",
      "metadata": {
        "colab": {
          "base_uri": "https://localhost:8080/"
        },
        "id": "32ZpQhRpLX_A",
        "outputId": "21843f8c-d745-437d-ad75-20043c7ce7da"
      },
      "source": [
        "print (\"\\n\\n\")\n",
        "metaKeys = dataFile['meta'].keys()\n",
        "meta = dataFile['meta']\n",
        "for key in metaKeys:\n",
        "    print (key, meta[key].value)"
      ],
      "execution_count": null,
      "outputs": [
        {
          "output_type": "stream",
          "text": [
            "\n",
            "\n",
            "\n",
            "Description b'Strain data time series from LIGO'\n",
            "DescriptionURL b'http://losc.ligo.org/'\n",
            "Detector b'H1'\n",
            "Duration 4096\n",
            "GPSstart 815411200\n",
            "Observatory b'H'\n",
            "Type b'StrainTimeSeries'\n",
            "UTCstart b'2005-11-07T15:06:27'\n"
          ],
          "name": "stdout"
        },
        {
          "output_type": "stream",
          "text": [
            "/usr/local/lib/python3.6/dist-packages/ipykernel_launcher.py:5: H5pyDeprecationWarning: dataset.value has been deprecated. Use dataset[()] instead.\n",
            "  \"\"\"\n"
          ],
          "name": "stderr"
        }
      ]
    },
    {
      "cell_type": "code",
      "metadata": {
        "colab": {
          "base_uri": "https://localhost:8080/"
        },
        "id": "IDKDy5JVMrJf",
        "outputId": "5dfde0a0-08c7-487d-a1d6-2e28d16a4583"
      },
      "source": [
        "import numpy as np\n",
        "import matplotlib.pyplot as plt\n",
        "import h5py\n",
        "\n",
        "filename = 'H-H1_LOSC_4_V1-815411200-4096.hdf5'\n",
        "dataFile = h5py.File(filename, 'r')\n",
        "gpsStart = dataFile['meta']['GPSstart'].value\n",
        "\n",
        "dqInfo = dataFile['quality']['simple']\n",
        "bitnameList = dqInfo['DQShortnames'].value\n",
        "nbits = len(bitnameList)\n",
        "\n",
        "for bit in range(nbits):\n",
        "    print (bit, bitnameList[bit])"
      ],
      "execution_count": null,
      "outputs": [
        {
          "output_type": "stream",
          "text": [
            "0 b'DATA'\n",
            "1 b'CBCHIGH_CAT1'\n",
            "2 b'CBCHIGH_CAT2'\n",
            "3 b'CBCHIGH_CAT3'\n",
            "4 b'CBCHIGH_CAT4'\n",
            "5 b'CBCLOW_CAT1'\n",
            "6 b'CBCLOW_CAT2'\n",
            "7 b'CBCLOW_CAT3'\n",
            "8 b'CBCLOW_CAT4'\n",
            "9 b'BURST_CAT1'\n",
            "10 b'BURST_CAT2'\n",
            "11 b'BURST_CAT3'\n",
            "12 b'BURST_CAT2E'\n",
            "13 b'BURST_CAT3E'\n",
            "14 b'CW_CAT1'\n",
            "15 b'STOCH_CAT1'\n",
            "16 b'STOCH_CAT2_H1L1'\n",
            "17 b'STOCH_CAT2_H2L1'\n"
          ],
          "name": "stdout"
        },
        {
          "output_type": "stream",
          "text": [
            "/usr/local/lib/python3.6/dist-packages/ipykernel_launcher.py:7: H5pyDeprecationWarning: dataset.value has been deprecated. Use dataset[()] instead.\n",
            "  import sys\n",
            "/usr/local/lib/python3.6/dist-packages/ipykernel_launcher.py:10: H5pyDeprecationWarning: dataset.value has been deprecated. Use dataset[()] instead.\n",
            "  # Remove the CWD from sys.path while we load stuff.\n"
          ],
          "name": "stderr"
        }
      ]
    },
    {
      "cell_type": "code",
      "metadata": {
        "colab": {
          "base_uri": "https://localhost:8080/"
        },
        "id": "Lmhd6alcPXpe",
        "outputId": "d1afad33-534f-475b-9780-b4348f68609e"
      },
      "source": [
        "qmask = dqInfo['DQmask'].value"
      ],
      "execution_count": null,
      "outputs": [
        {
          "output_type": "stream",
          "text": [
            "/usr/local/lib/python3.6/dist-packages/ipykernel_launcher.py:1: H5pyDeprecationWarning: dataset.value has been deprecated. Use dataset[()] instead.\n",
            "  \"\"\"Entry point for launching an IPython kernel.\n"
          ],
          "name": "stderr"
        }
      ]
    },
    {
      "cell_type": "code",
      "metadata": {
        "id": "-Q8CQaOpR5O9"
      },
      "source": [
        "sci = (qmask >> 0) & 1\n",
        "burst1  = (qmask >> 9) & 1"
      ],
      "execution_count": null,
      "outputs": []
    },
    {
      "cell_type": "code",
      "metadata": {
        "id": "s7jYlshOSJg8"
      },
      "source": [
        "goodData_1hz = sci & burst1"
      ],
      "execution_count": null,
      "outputs": []
    },
    {
      "cell_type": "code",
      "metadata": {
        "colab": {
          "base_uri": "https://localhost:8080/",
          "height": 302
        },
        "id": "II6XqhJMTY7r",
        "outputId": "f55ee0b1-9edc-4e6f-e955-488a88ebc4bb"
      },
      "source": [
        "plt.plot(goodData_1hz + 4, label='Good_Data')\n",
        "plt.plot(burst1 + 2, label='BURST_CAT1')\n",
        "plt.plot(sci, label='DATA')\n",
        "plt.axis([0, 4096, -1, 8])\n",
        "plt.legend(loc=1)\n",
        "plt.xlabel('Time (s)')"
      ],
      "execution_count": null,
      "outputs": [
        {
          "output_type": "execute_result",
          "data": {
            "text/plain": [
              "Text(0.5, 0, 'Time (s)')"
            ]
          },
          "metadata": {
            "tags": []
          },
          "execution_count": 22
        },
        {
          "output_type": "display_data",
          "data": {
            "image/png": "[encoded data removed]",
            "text/plain": [
              "<Figure size 432x288 with 1 Axes>"
            ]
          },
          "metadata": {
            "tags": [],
            "needs_background": "light"
          }
        }
      ]
    },
    {
      "cell_type": "code",
      "metadata": {
        "id": "OmIBCLI4TtTb"
      },
      "source": [
        "dummy = np.zeros(goodData_1hz.shape)\n",
        "masked_dummy = np.ma.masked_array(dummy, np.logical_not(goodData_1hz) )\n",
        "segments = np.ma.flatnotmasked_contiguous(masked_dummy)\n",
        "segList = [(int(seg.start+gpsStart), int(seg.stop+gpsStart)) for seg in segments]"
      ],
      "execution_count": null,
      "outputs": []
    },
    {
      "cell_type": "code",
      "metadata": {
        "colab": {
          "base_uri": "https://localhost:8080/"
        },
        "id": "a76Rgz2ZVUcw",
        "outputId": "109fb8d1-266d-4e9d-f71d-85b54208f3af"
      },
      "source": [
        "!pip install readligo"
      ],
      "execution_count": null,
      "outputs": [
        {
          "output_type": "stream",
          "text": [
            "\u001b[31mERROR: Could not find a version that satisfies the requirement readligo (from versions: none)\u001b[0m\n",
            "\u001b[31mERROR: No matching distribution found for readligo\u001b[0m\n"
          ],
          "name": "stdout"
        }
      ]
    },
    {
      "cell_type": "code",
      "metadata": {
        "id": "_OmGYIZ7VK9v"
      },
      "source": [
        "import numpy as np\n",
        "import matplotlib.pyplot as plt\n",
        "import readligo as rl"
      ],
      "execution_count": null,
      "outputs": []
    },
    {
      "cell_type": "code",
      "metadata": {
        "colab": {
          "base_uri": "https://localhost:8080/"
        },
        "id": "BuHUfzuQVS0s",
        "outputId": "0b8d805a-8037-4430-c537-317bfe4786b3"
      },
      "source": [
        "from google.colab import drive\n",
        "drive.mount('/content/drive/')"
      ],
      "execution_count": null,
      "outputs": [
        {
          "output_type": "stream",
          "text": [
            "Mounted at /content/drive/\n"
          ],
          "name": "stdout"
        }
      ]
    },
    {
      "cell_type": "code",
      "metadata": {
        "colab": {
          "base_uri": "https://localhost:8080/"
        },
        "id": "m0b90CjaYzts",
        "outputId": "e8d8b695-db57-4602-9768-f423f28dfdb8"
      },
      "source": [
        "strain, time, chan_dict = rl.loaddata(\n",
        "                          'H-H1_LOSC_4_V1-815411200-4096.hdf5', 'H1')"
      ],
      "execution_count": null,
      "outputs": [
        {
          "output_type": "stream",
          "text": [
            "/content/readligo.py:155: H5pyDeprecationWarning: dataset.value has been deprecated. Use dataset[()] instead.\n",
            "  shortnameArray = dqInfo['DQShortnames'].value\n",
            "/content/readligo.py:161: H5pyDeprecationWarning: dataset.value has been deprecated. Use dataset[()] instead.\n",
            "  injnameArray = injInfo['InjShortnames'].value\n",
            "/content/readligo.py:166: H5pyDeprecationWarning: dataset.value has been deprecated. Use dataset[()] instead.\n",
            "  gpsStart = meta['GPSstart'].value\n"
          ],
          "name": "stderr"
        }
      ]
    },
    {
      "cell_type": "code",
      "metadata": {
        "id": "SwQID_RtZ6pn"
      },
      "source": [
        "slice_list = rl.dq_channel_to_seglist(chan_dict['DATA'])\n",
        "for slice in slice_list:\n",
        "    time_seg = time[slice]\n",
        "    strain_seg = strain[slice]\n",
        "    # -- Do stuff with strain segment here"
      ],
      "execution_count": null,
      "outputs": []
    },
    {
      "cell_type": "code",
      "metadata": {
        "colab": {
          "base_uri": "https://localhost:8080/"
        },
        "id": "0GM6TieuaEUn",
        "outputId": "0ce410b8-a8fc-4869-f074-97a46bb67da7"
      },
      "source": [
        "start = 815411200\n",
        "stop =  815411201\n",
        "segList = rl.getsegs(start, stop, 'H1', flag='CBCLOW_CAT2')"
      ],
      "execution_count": null,
      "outputs": [
        {
          "output_type": "stream",
          "text": [
            "Using data directory . ...\n"
          ],
          "name": "stdout"
        },
        {
          "output_type": "stream",
          "text": [
            "/content/readligo.py:155: H5pyDeprecationWarning: dataset.value has been deprecated. Use dataset[()] instead.\n",
            "  shortnameArray = dqInfo['DQShortnames'].value\n",
            "/content/readligo.py:161: H5pyDeprecationWarning: dataset.value has been deprecated. Use dataset[()] instead.\n",
            "  injnameArray = injInfo['InjShortnames'].value\n",
            "/content/readligo.py:166: H5pyDeprecationWarning: dataset.value has been deprecated. Use dataset[()] instead.\n",
            "  gpsStart = meta['GPSstart'].value\n"
          ],
          "name": "stderr"
        }
      ]
    },
    {
      "cell_type": "code",
      "metadata": {
        "id": "-dookPvkcCIG"
      },
      "source": [],
      "execution_count": null,
      "outputs": []
    }
  ]
}